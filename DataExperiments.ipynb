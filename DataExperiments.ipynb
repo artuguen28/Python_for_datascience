{
 "cells": [
  {
   "cell_type": "code",
   "execution_count": 2,
   "source": [
    "import pandas as pd\r\n",
    "import numpy as np\r\n",
    "import matplotlib.pyplot as plt"
   ],
   "outputs": [],
   "metadata": {}
  },
  {
   "cell_type": "code",
   "execution_count": 94,
   "source": [
    "#Creating a DataFrame from a dict\r\n",
    "data = {'Names':['Arthur', 'Manuela', 'Alexandre'], 'Age':[18,16,8]}\r\n",
    "\r\n",
    "#An index can also be created using arrays\r\n",
    "df = pd.DataFrame(data, index=['first', 'second', 'third'])\r\n",
    "\r\n",
    "#Creating a DataFrame from lists\r\n",
    "l1 = ['Jorge', 'Ronaldo', 'Mario', 'Carlos', 'John']\r\n",
    "l2 = [23, 53, 26, 63, 75]\r\n",
    "l3 = ['100', '80', '90', '89', '56']\r\n",
    "#Merge them using zip()\r\n",
    "list_tuples = list(zip(l1, l2, l3))\r\n",
    "\r\n",
    "# Converting lists of tuples into pandas DataFrame\r\n",
    "df1 = pd.DataFrame(list_tuples, columns=['Name', 'Age', 'Score'])\r\n",
    "\r\n",
    "print(df1.head(6))\r\n",
    "print('-='*12)\r\n",
    "print(df1.iloc[2])\r\n",
    "print('-='*12)\r\n",
    "print(df1.loc[df1['Age'] > 50]\r\n",
    "\r\n"
   ],
   "outputs": [
    {
     "output_type": "error",
     "ename": "SyntaxError",
     "evalue": "unexpected EOF while parsing (<ipython-input-94-a48fb58b7636>, line 23)",
     "traceback": [
      "\u001b[1;36m  File \u001b[1;32m\"<ipython-input-94-a48fb58b7636>\"\u001b[1;36m, line \u001b[1;32m23\u001b[0m\n\u001b[1;33m    \u001b[0m\n\u001b[1;37m    ^\u001b[0m\n\u001b[1;31mSyntaxError\u001b[0m\u001b[1;31m:\u001b[0m unexpected EOF while parsing\n"
     ]
    }
   ],
   "metadata": {}
  }
 ],
 "metadata": {
  "orig_nbformat": 4,
  "language_info": {
   "name": "python",
   "version": "3.9.0",
   "mimetype": "text/x-python",
   "codemirror_mode": {
    "name": "ipython",
    "version": 3
   },
   "pygments_lexer": "ipython3",
   "nbconvert_exporter": "python",
   "file_extension": ".py"
  },
  "kernelspec": {
   "name": "python3",
   "display_name": "Python 3.9.0 64-bit"
  },
  "interpreter": {
   "hash": "0b4cd1dba37433b1e50c010185bc348f8249c88fc584b8900b63ec6ab96afba5"
  }
 },
 "nbformat": 4,
 "nbformat_minor": 2
}