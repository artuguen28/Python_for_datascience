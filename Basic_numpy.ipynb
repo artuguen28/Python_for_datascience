{
 "cells": [
  {
   "cell_type": "markdown",
   "source": [
    "# *This is Python Tutorial*"
   ],
   "metadata": {}
  },
  {
   "cell_type": "code",
   "execution_count": 2,
   "source": [
    "import numpy as np"
   ],
   "outputs": [],
   "metadata": {}
  },
  {
   "cell_type": "code",
   "execution_count": 43,
   "source": [
    "a = np.array([[1, 2, 3, 4, 5], [1, 6, 3, 4, 9]])\r\n",
    "b = np.array([1, 6, 3, 4, 9])\r\n",
    "\r\n",
    "#Ways to select an element from Numpy Array\r\n",
    "print(a[1][2], a[1,3])\r\n",
    "\r\n",
    "#Shows the dimensions of an array\r\n",
    "print(a.ndim, b.ndim)\r\n",
    "\r\n",
    "#Shows how many elements are in an specific array\r\n",
    "a.shape[0]\r\n",
    "\r\n",
    "#Total elements in the array\r\n",
    "a.size\r\n"
   ],
   "outputs": [
    {
     "output_type": "stream",
     "name": "stdout",
     "text": [
      "3 4\n",
      "2 1\n"
     ]
    },
    {
     "output_type": "execute_result",
     "data": {
      "text/plain": [
       "10"
      ]
     },
     "metadata": {},
     "execution_count": 43
    }
   ],
   "metadata": {}
  },
  {
   "cell_type": "code",
   "execution_count": 63,
   "source": [
    "#Creates an array with range\r\n",
    "''' = np.array([np.arange(0, 10, 2), np.arange(10, 20, 2)]) \r\n",
    "print(c)\r\n",
    "print(c.ndim)'''\r\n",
    "\r\n",
    "# The function \"range\" doesn`t create a list\r\n",
    "\r\n",
    "# Randomize an array\r\n",
    "'''d = np.random.permutation(np.arange(10))\r\n",
    "print(d)'''\r\n",
    "\r\n",
    "# Creates an array with int numbers\r\n",
    "e = np.random.randint(20,30)\r\n",
    "print(e)\r\n",
    "\r\n",
    "# This function reshape an array as a matrix\r\n",
    "D = np.arange(100).reshape(4,25)\r\n",
    "D\r\n"
   ],
   "outputs": [
    {
     "output_type": "stream",
     "name": "stdout",
     "text": [
      "24\n"
     ]
    },
    {
     "output_type": "execute_result",
     "data": {
      "text/plain": [
       "array([[ 0,  1,  2,  3,  4,  5,  6,  7,  8,  9, 10, 11, 12, 13, 14, 15,\n",
       "        16, 17, 18, 19, 20, 21, 22, 23, 24],\n",
       "       [25, 26, 27, 28, 29, 30, 31, 32, 33, 34, 35, 36, 37, 38, 39, 40,\n",
       "        41, 42, 43, 44, 45, 46, 47, 48, 49],\n",
       "       [50, 51, 52, 53, 54, 55, 56, 57, 58, 59, 60, 61, 62, 63, 64, 65,\n",
       "        66, 67, 68, 69, 70, 71, 72, 73, 74],\n",
       "       [75, 76, 77, 78, 79, 80, 81, 82, 83, 84, 85, 86, 87, 88, 89, 90,\n",
       "        91, 92, 93, 94, 95, 96, 97, 98, 99]])"
      ]
     },
     "metadata": {},
     "execution_count": 63
    }
   ],
   "metadata": {}
  },
  {
   "cell_type": "code",
   "execution_count": 65,
   "source": [
    "a1 = np.arange(100)\r\n",
    "b1 = a1[:].copy() #Create a independent copy on numpy\r\n",
    "b1"
   ],
   "outputs": [
    {
     "output_type": "execute_result",
     "data": {
      "text/plain": [
       "array([3, 4, 5, 6, 7, 8, 9])"
      ]
     },
     "metadata": {},
     "execution_count": 65
    }
   ],
   "metadata": {}
  },
  {
   "cell_type": "code",
   "execution_count": 76,
   "source": [
    "V = np.round(10*np.random.rand(5,4))\r\n",
    "\r\n",
    "#Slicing in deferent ways\r\n",
    "print(V)\r\n",
    "print(V[1,:], V[:,1])\r\n",
    "print(V[1:3,2:4])"
   ],
   "outputs": [
    {
     "output_type": "stream",
     "name": "stdout",
     "text": [
      "[[0. 8. 1. 5.]\n",
      " [3. 7. 7. 1.]\n",
      " [3. 4. 8. 3.]\n",
      " [6. 5. 6. 1.]\n",
      " [4. 1. 5. 8.]]\n",
      "[3. 7. 7. 1.] [8. 7. 4. 5. 1.]\n",
      "[[7. 1.]\n",
      " [8. 3.]]\n"
     ]
    }
   ],
   "metadata": {}
  }
 ],
 "metadata": {
  "orig_nbformat": 4,
  "language_info": {
   "name": "python",
   "version": "3.9.0",
   "mimetype": "text/x-python",
   "codemirror_mode": {
    "name": "ipython",
    "version": 3
   },
   "pygments_lexer": "ipython3",
   "nbconvert_exporter": "python",
   "file_extension": ".py"
  },
  "kernelspec": {
   "name": "python3",
   "display_name": "Python 3.9.0 64-bit"
  },
  "interpreter": {
   "hash": "0b4cd1dba37433b1e50c010185bc348f8249c88fc584b8900b63ec6ab96afba5"
  }
 },
 "nbformat": 4,
 "nbformat_minor": 2
}